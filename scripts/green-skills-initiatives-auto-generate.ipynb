{
 "cells": [
  {
   "cell_type": "markdown",
   "metadata": {},
   "source": [
    "# About\n",
    "\n",
    "Within the context of the CERISE project we have created several sreadsheets that list different entities and their properties. \n",
    "This code aims to automate the extraction of data from those spreadsheets to render them as pages in a quarto website. \n",
    "\n",
    "NOTE: \n",
    "I wasn't able to download the relevant online data with code. Instead, I download the spreadsheets manually as csv files (stored in the data folder).\n",
    "In a future iteration the website generation could be fully automated using CI.\n",
    "\n"
   ]
  },
  {
   "cell_type": "code",
   "execution_count": 1,
   "metadata": {},
   "outputs": [],
   "source": [
    "import shutil\n",
    "import os\n",
    "import pandas as pd\n"
   ]
  },
  {
   "cell_type": "markdown",
   "metadata": {},
   "source": [
    "# Custom functions"
   ]
  },
  {
   "cell_type": "code",
   "execution_count": 2,
   "metadata": {},
   "outputs": [],
   "source": [
    "def tidy_filename(filename):\n",
    "    return filename.strip().replace(\"'\", '_')"
   ]
  },
  {
   "cell_type": "code",
   "execution_count": 3,
   "metadata": {},
   "outputs": [],
   "source": [
    "\n",
    "def save_qmd(content, filename):\n",
    "    \n",
    "    # tidy filename\n",
    "    filename = tidy_filename(filename)\n",
    "    # write documentation into qmd file\n",
    "    md_file = open(filename + '.qmd', 'w')\n",
    "    md_file.write(content.encode('utf8'))\n",
    "    md_file.close()\n",
    "\n"
   ]
  },
  {
   "cell_type": "code",
   "execution_count": 4,
   "metadata": {},
   "outputs": [],
   "source": [
    "# loading of the data from spreadsheet does not work because of csv formatting issue.\n",
    "\n",
    "\n",
    "## Instructions google sheet:\n",
    "# document_id = '1FE-NipeF_ns5yoiXXi0mHm0FF21VYoJfC5recSE441s'\n",
    "# sheet_name = 'initiatives'\n",
    "# sheet_url = f\"https://docs.google.com/spreadsheets/d/{document_id}/gviz/tq?tqx=out:json&sheet={sheet_name}\"\n",
    "\n",
    "# initiatives = pd.read_csv(sheet_url)\n"
   ]
  },
  {
   "cell_type": "code",
   "execution_count": 9,
   "metadata": {},
   "outputs": [],
   "source": [
    "# describes how data from the spreadsheet is converted to a page:\n",
    "\n",
    "def convert_row_to_qmd(row, output_dir, usecase):\n",
    "\n",
    "    if usecase != 'initiative':\n",
    "            \n",
    "        text = f'## {row[\"Name\"]}\\n'\n",
    "        text += f'### Description\\n\\n{row[\"Description\"]}\\n\\n'\n",
    "        \n",
    "        filename = row[\"Name\"].lower().replace(\" \", \"-\")\n",
    "        \n",
    "    else:\n",
    "        \n",
    "        text = f'## {row[\"name\"]}\\n'\n",
    "        text += f'### Description\\n\\n{row[\"description\"]}\\n\\n'\n",
    "        \n",
    "        filename = row[\"name\"].lower().replace(\" \", \"-\")\n",
    "\n",
    "        \n",
    "\n",
    "        text += f'### Type of Initiative\\n\\n{row[\"type\"]}\\n\\n'\n",
    "        text += f'### Provider\\n\\n{row[\"provider_name\"]}\\n\\n'\n",
    "        text += f'### Creator\\n\\n{row[\"creator_name\"]}\\n\\n'\n",
    "        \n",
    "\n",
    "    # loop over variables to generate output if it variables have been entered.\n",
    "    vars = row.index[6:]\n",
    "    for v in vars:\n",
    "\n",
    "        if (not pd.isna(row[v])):\n",
    "\n",
    "            text += f'### {v}\\n\\n{row[v]}\\n\\n' # replace v by v_title to get from a separate table\n",
    "\n",
    "\n",
    "\n",
    "    \n",
    "\n",
    "    filename =  output_dir + filename\n",
    "\n",
    "    save_qmd(text, filename)\n",
    "\n",
    "    return text\n",
    "\n",
    "\n",
    "\n",
    "\n"
   ]
  },
  {
   "cell_type": "code",
   "execution_count": 10,
   "metadata": {},
   "outputs": [],
   "source": [
    "def extract_data_for_website(data_filename, output_dir, data_page, usecase):\n",
    "    \n",
    "    \n",
    "    \n",
    "    # importing data \n",
    "    df = pd.read_csv(data_filename, encoding = \"ISO-8859-1\")\n",
    "        \n",
    "    # loop over rows and save each row as qmd file\n",
    "    for i in range(len(df)):\n",
    "        row = df.loc[i,]\n",
    "        convert_row_to_qmd(row, output_dir, usecase)\n",
    "    \n",
    "    # list files in the output folder (should yeield all the auto-generated qmd files):\n",
    "    auto_files = os.listdir(output_dir)\n",
    "    \n",
    "    # add included statements in the initiative file\n",
    "    text = '' \n",
    "    text += '\\n\\n'\n",
    "\n",
    "    for i in auto_files:\n",
    "        text += '{{'\n",
    "        text += f'< include {output_dir}{i} >'\n",
    "        text += '}}\\n\\n'\n",
    "\n",
    "    save_qmd(text, data_page)\n"
   ]
  },
  {
   "cell_type": "markdown",
   "metadata": {},
   "source": [
    "# Data extraction and conversion\n"
   ]
  },
  {
   "cell_type": "markdown",
   "metadata": {},
   "source": [
    "## 1. List of green skills initiatives\n"
   ]
  },
  {
   "cell_type": "code",
   "execution_count": 11,
   "metadata": {},
   "outputs": [],
   "source": [
    "usecases = [\n",
    "                {\n",
    "                    'input_file': 'data/WP2A1-Greenskills initiatives - initiatives.csv',\n",
    "                    'output_dir': 'green-skills-initiatives/auto-generated/',\n",
    "                    'data_page':  'green-skills-initiatives-list',\n",
    "                    'usecase': 'initiative'\n",
    "                },\n",
    "                {\n",
    "                    'input_file': 'data/WP2A2 - Green Skills Resources(Green Skills Resources).csv',\n",
    "                    'output_dir': 'green-skills-resources/auto-generated/',\n",
    "                    'data_page': 'green-skills-resources-list',\n",
    "                    'usecase': 'resource'\n",
    "                }\n",
    "            ]\n"
   ]
  },
  {
   "cell_type": "code",
   "execution_count": 12,
   "metadata": {},
   "outputs": [],
   "source": [
    "for u in usecases:\n",
    "    # process the input data\n",
    "    extract_data_for_website(u['input_file'], \n",
    "                             u['output_dir'],\n",
    "                             u['data_page'],\n",
    "                             u['usecase'])\n",
    "    \n",
    "    "
   ]
  },
  {
   "cell_type": "code",
   "execution_count": null,
   "metadata": {},
   "outputs": [],
   "source": [
    "usecases[0]['a']"
   ]
  },
  {
   "cell_type": "code",
   "execution_count": 8,
   "metadata": {},
   "outputs": [],
   "source": [
    "\n",
    "\n",
    "# importing data from manually downloaded spreadsheet\n",
    "input_data = pd.read_csv('data/WP2A1-Greenskills initiatives - initiatives.csv')\n",
    "\n",
    "# location to store the auto-generated qmd files \n",
    "output_dir = 'green-skills-initiatives/auto-generated/' \n",
    "\n",
    "# there is an intro page for that spreadsheet\n",
    "data_page = 'green-skills-initiatives-list'\n",
    "\n",
    "# process the input data\n",
    "extract_data_for_website(input_data, output_dir, data_page)\n"
   ]
  },
  {
   "cell_type": "markdown",
   "metadata": {},
   "source": [
    "## 2. List of resources"
   ]
  },
  {
   "cell_type": "code",
   "execution_count": 13,
   "metadata": {},
   "outputs": [],
   "source": [
    "# importing data from manually downloaded spreadsheet\n",
    "input_data = pd.read_csv('data/WP2A2 - Green Skills Resources(Green Skills Resources).csv', encoding = \"ISO-8859-1\")"
   ]
  },
  {
   "cell_type": "code",
   "execution_count": null,
   "metadata": {},
   "outputs": [],
   "source": [
    "\n",
    "# importing data from manually downloaded spreadsheet\n",
    "input_data = pd.read_csv('data/WP2A2 - Green Skills Resources(Green Skills Resources).csv')\n",
    "\n",
    "# location to store the auto-generated qmd files \n",
    "output_dir = 'green-skills-resources/auto-generated/' \n",
    "\n",
    "# there is an intro page for that spreadsheet\n",
    "data_page = 'green-skills-resources-list'\n",
    "\n",
    "# process the input data\n",
    "extract_data_for_website(input_data, output_dir, data_page)\n"
   ]
  },
  {
   "cell_type": "code",
   "execution_count": null,
   "metadata": {},
   "outputs": [],
   "source": [
    "input_data\n"
   ]
  },
  {
   "cell_type": "code",
   "execution_count": 10,
   "metadata": {},
   "outputs": [],
   "source": [
    "for i in range(len(initiatives)):\n",
    "    row = initiatives.loc[i,]\n",
    "    convert_row_to_qmd(row)"
   ]
  },
  {
   "cell_type": "code",
   "execution_count": 11,
   "metadata": {},
   "outputs": [],
   "source": [
    "# list files in the initiatives folder:\n",
    "auto_files = os.listdir(output_dir)"
   ]
  },
  {
   "cell_type": "code",
   "execution_count": 12,
   "metadata": {},
   "outputs": [],
   "source": [
    "# add included statements in the initiative file\n",
    "\n",
    "text = '' # '## Green Skills Initiatives Repository'\n",
    "text += '\\n\\n'\n",
    "\n",
    "for i in auto_files:\n",
    "    text += '{{'\n",
    "    text += f'< include {output_dir}{i} >'\n",
    "    text += '}}\\n\\n'\n",
    "\n",
    "save_qmd(text, 'green-skills-initiatives-list')\n"
   ]
  },
  {
   "cell_type": "code",
   "execution_count": null,
   "metadata": {},
   "outputs": [],
   "source": []
  }
 ],
 "metadata": {
  "kernelspec": {
   "display_name": "Python 3",
   "language": "python",
   "name": "python3"
  },
  "language_info": {
   "codemirror_mode": {
    "name": "ipython",
    "version": 3
   },
   "file_extension": ".py",
   "mimetype": "text/x-python",
   "name": "python",
   "nbconvert_exporter": "python",
   "pygments_lexer": "ipython3",
   "version": "3.9.13"
  }
 },
 "nbformat": 4,
 "nbformat_minor": 2
}
